{
 "cells": [
  {
   "cell_type": "code",
   "execution_count": 3,
   "metadata": {},
   "outputs": [],
   "source": [
    "import numpy as np\n",
    "import pandas as pd\n",
    "pd.options.display.max_columns = 100\n",
    "from matplotlib import pyplot as plt\n",
    "%matplotlib inline\n",
    "import seaborn as sns\n",
    "\n",
    "import warnings\n",
    "warnings.simplefilter(\"ignore\")\n",
    "\n",
    "from sklearn.model_selection import train_test_split   # разделение выборки на train и test\n",
    "\n",
    "from sklearn.model_selection import cross_val_score     # кросс-валидация\n",
    "from sklearn.model_selection import cross_val_predict\n",
    "\n",
    "import xgboost as xgb, lightgbm as lgbm, catboost as catb\n",
    "\n",
    "from sklearn.metrics import roc_auc_score\n",
    "\n",
    "from sklearn.model_selection import KFold, GridSearchCV, RandomizedSearchCV\n",
    "from bayes_opt import BayesianOptimization"
   ]
  },
  {
   "cell_type": "code",
   "execution_count": 4,
   "metadata": {},
   "outputs": [],
   "source": [
    "path_2 = 'C:/Tefi/Alfa/Data/'\n",
    "\n",
    "test_target = pd.read_csv(f'{path_2}alfabattle2_test_target_contest.csv')\n",
    "sample = pd.read_csv(f'{path_2}alfabattle2_alpha_sample.csv')\n",
    "\n",
    "path = 'C:/Tefi/Alfa/Data_pro/'\n",
    "\n",
    "train_data = pd.read_parquet(f'{path}train_data_pro.parquet', engine='pyarrow')\n",
    "train_target = pd.read_csv(f'{path}train_target_pro.csv')\n",
    "test_data = pd.read_parquet(f'{path}test_data_pro.parquet', engine='pyarrow')\n"
   ]
  },
  {
   "cell_type": "code",
   "execution_count": null,
   "metadata": {},
   "outputs": [],
   "source": []
  },
  {
   "cell_type": "code",
   "execution_count": null,
   "metadata": {},
   "outputs": [],
   "source": []
  },
  {
   "cell_type": "code",
   "execution_count": 5,
   "metadata": {},
   "outputs": [],
   "source": [
    "x_train, x_valid, y_train, y_valid = train_test_split(train_data, train_target, test_size=0.30)\n",
    "x_valid, x_test, y_valid, y_test = train_test_split(x_valid, y_valid, test_size=0.30)"
   ]
  },
  {
   "cell_type": "code",
   "execution_count": 6,
   "metadata": {},
   "outputs": [
    {
     "name": "stdout",
     "output_type": "stream",
     "text": [
      "0:\ttest: 0.5653660\tbest: 0.5653660 (0)\ttotal: 668ms\tremaining: 6m 39s\n",
      "10:\ttest: 0.6677542\tbest: 0.6677542 (10)\ttotal: 4.64s\tremaining: 4m 8s\n",
      "20:\ttest: 0.7000551\tbest: 0.7000551 (20)\ttotal: 9.15s\tremaining: 4m 12s\n",
      "30:\ttest: 0.7168629\tbest: 0.7168629 (30)\ttotal: 13.9s\tremaining: 4m 15s\n",
      "40:\ttest: 0.7270894\tbest: 0.7270894 (40)\ttotal: 19s\tremaining: 4m 18s\n",
      "50:\ttest: 0.7318175\tbest: 0.7318502 (49)\ttotal: 24s\tremaining: 4m 18s\n",
      "60:\ttest: 0.7344009\tbest: 0.7344009 (60)\ttotal: 29.2s\tremaining: 4m 18s\n",
      "70:\ttest: 0.7361951\tbest: 0.7361951 (70)\ttotal: 34.2s\tremaining: 4m 15s\n",
      "80:\ttest: 0.7373863\tbest: 0.7373863 (80)\ttotal: 39.2s\tremaining: 4m 11s\n",
      "90:\ttest: 0.7383728\tbest: 0.7385234 (88)\ttotal: 44s\tremaining: 4m 6s\n",
      "100:\ttest: 0.7398692\tbest: 0.7398692 (100)\ttotal: 48.9s\tremaining: 4m 1s\n",
      "110:\ttest: 0.7411893\tbest: 0.7411893 (110)\ttotal: 53.4s\tremaining: 3m 55s\n",
      "120:\ttest: 0.7423510\tbest: 0.7423747 (118)\ttotal: 58.1s\tremaining: 3m 50s\n",
      "130:\ttest: 0.7433357\tbest: 0.7433357 (130)\ttotal: 1m 2s\tremaining: 3m 45s\n",
      "140:\ttest: 0.7443846\tbest: 0.7443846 (140)\ttotal: 1m 7s\tremaining: 3m 39s\n",
      "150:\ttest: 0.7455397\tbest: 0.7455397 (150)\ttotal: 1m 12s\tremaining: 3m 35s\n",
      "160:\ttest: 0.7464230\tbest: 0.7464230 (160)\ttotal: 1m 17s\tremaining: 3m 30s\n",
      "170:\ttest: 0.7474397\tbest: 0.7474397 (170)\ttotal: 1m 21s\tremaining: 3m 24s\n",
      "180:\ttest: 0.7484469\tbest: 0.7484469 (180)\ttotal: 1m 26s\tremaining: 3m 20s\n",
      "190:\ttest: 0.7493574\tbest: 0.7493574 (190)\ttotal: 1m 31s\tremaining: 3m 15s\n",
      "200:\ttest: 0.7501333\tbest: 0.7501333 (200)\ttotal: 1m 36s\tremaining: 3m 10s\n",
      "210:\ttest: 0.7507470\tbest: 0.7507470 (210)\ttotal: 1m 40s\tremaining: 3m 5s\n",
      "220:\ttest: 0.7516369\tbest: 0.7516369 (220)\ttotal: 1m 45s\tremaining: 3m 1s\n",
      "230:\ttest: 0.7523867\tbest: 0.7523867 (230)\ttotal: 1m 50s\tremaining: 2m 57s\n",
      "240:\ttest: 0.7529358\tbest: 0.7529358 (240)\ttotal: 1m 55s\tremaining: 2m 52s\n",
      "250:\ttest: 0.7536646\tbest: 0.7536646 (250)\ttotal: 2m\tremaining: 2m 47s\n",
      "260:\ttest: 0.7542965\tbest: 0.7542965 (260)\ttotal: 2m 5s\tremaining: 2m 42s\n",
      "270:\ttest: 0.7549345\tbest: 0.7549345 (270)\ttotal: 2m 9s\tremaining: 2m 37s\n",
      "280:\ttest: 0.7554727\tbest: 0.7554727 (280)\ttotal: 2m 14s\tremaining: 2m 33s\n",
      "290:\ttest: 0.7560332\tbest: 0.7560332 (290)\ttotal: 2m 19s\tremaining: 2m 28s\n",
      "300:\ttest: 0.7564536\tbest: 0.7564536 (300)\ttotal: 2m 24s\tremaining: 2m 23s\n",
      "310:\ttest: 0.7570353\tbest: 0.7570353 (310)\ttotal: 2m 29s\tremaining: 2m 18s\n",
      "320:\ttest: 0.7574815\tbest: 0.7574815 (320)\ttotal: 2m 34s\tremaining: 2m 14s\n",
      "330:\ttest: 0.7578728\tbest: 0.7578728 (330)\ttotal: 2m 39s\tremaining: 2m 9s\n",
      "340:\ttest: 0.7583044\tbest: 0.7583044 (340)\ttotal: 2m 44s\tremaining: 2m 4s\n",
      "350:\ttest: 0.7588095\tbest: 0.7588095 (350)\ttotal: 2m 49s\tremaining: 2m\n",
      "360:\ttest: 0.7591530\tbest: 0.7591530 (360)\ttotal: 2m 54s\tremaining: 1m 55s\n",
      "370:\ttest: 0.7595402\tbest: 0.7595402 (370)\ttotal: 2m 59s\tremaining: 1m 50s\n",
      "380:\ttest: 0.7599342\tbest: 0.7599342 (380)\ttotal: 3m 3s\tremaining: 1m 45s\n",
      "390:\ttest: 0.7602951\tbest: 0.7602951 (390)\ttotal: 3m 8s\tremaining: 1m 40s\n",
      "400:\ttest: 0.7605317\tbest: 0.7605317 (400)\ttotal: 3m 13s\tremaining: 1m 36s\n",
      "410:\ttest: 0.7608523\tbest: 0.7608523 (410)\ttotal: 3m 18s\tremaining: 1m 31s\n",
      "420:\ttest: 0.7611994\tbest: 0.7611994 (420)\ttotal: 3m 23s\tremaining: 1m 26s\n",
      "430:\ttest: 0.7614335\tbest: 0.7614335 (430)\ttotal: 3m 28s\tremaining: 1m 21s\n",
      "440:\ttest: 0.7617825\tbest: 0.7617825 (440)\ttotal: 3m 33s\tremaining: 1m 16s\n",
      "450:\ttest: 0.7621646\tbest: 0.7621646 (450)\ttotal: 3m 37s\tremaining: 1m 11s\n",
      "460:\ttest: 0.7624859\tbest: 0.7624859 (460)\ttotal: 3m 42s\tremaining: 1m 7s\n",
      "470:\ttest: 0.7627917\tbest: 0.7627917 (470)\ttotal: 3m 46s\tremaining: 1m 2s\n",
      "480:\ttest: 0.7629681\tbest: 0.7629681 (480)\ttotal: 3m 51s\tremaining: 57.3s\n",
      "490:\ttest: 0.7632678\tbest: 0.7632678 (490)\ttotal: 3m 55s\tremaining: 52.3s\n",
      "500:\ttest: 0.7634978\tbest: 0.7634978 (500)\ttotal: 4m\tremaining: 47.5s\n",
      "510:\ttest: 0.7637160\tbest: 0.7637160 (510)\ttotal: 4m 4s\tremaining: 42.6s\n",
      "520:\ttest: 0.7639308\tbest: 0.7639308 (520)\ttotal: 4m 9s\tremaining: 37.8s\n",
      "530:\ttest: 0.7641829\tbest: 0.7641829 (530)\ttotal: 4m 13s\tremaining: 33s\n",
      "540:\ttest: 0.7643955\tbest: 0.7643955 (540)\ttotal: 4m 18s\tremaining: 28.2s\n",
      "550:\ttest: 0.7646422\tbest: 0.7646422 (550)\ttotal: 4m 22s\tremaining: 23.4s\n",
      "560:\ttest: 0.7648723\tbest: 0.7648723 (560)\ttotal: 4m 27s\tremaining: 18.6s\n",
      "570:\ttest: 0.7651211\tbest: 0.7651211 (570)\ttotal: 4m 32s\tremaining: 13.8s\n",
      "580:\ttest: 0.7653428\tbest: 0.7653428 (580)\ttotal: 4m 36s\tremaining: 9.05s\n",
      "590:\ttest: 0.7654908\tbest: 0.7654908 (590)\ttotal: 4m 41s\tremaining: 4.29s\n",
      "599:\ttest: 0.7656263\tbest: 0.7656263 (599)\ttotal: 4m 45s\tremaining: 0us\n",
      "\n",
      "bestTest = 0.7656262534\n",
      "bestIteration = 599\n",
      "\n"
     ]
    },
    {
     "data": {
      "text/plain": [
       "<catboost.core.CatBoostClassifier at 0x2848d1381c0>"
      ]
     },
     "execution_count": 6,
     "metadata": {},
     "output_type": "execute_result"
    }
   ],
   "source": [
    "cb_params = {\n",
    "    \"n_estimators\": 600,\n",
    "    \"loss_function\": \"Logloss\",\n",
    "    \"eval_metric\": \"AUC\",\n",
    "    \"task_type\": \"CPU\",\n",
    "    \"max_bin\": 20,\n",
    "    \"verbose\": 10,\n",
    "    \"max_depth\": 7,\n",
    "    \"l2_leaf_reg\": 100,\n",
    "    \"early_stopping_rounds\": 50,\n",
    "    \"thread_count\": 6,\n",
    "    \"random_seed\": 42,\n",
    "}\n",
    "\n",
    "model_catb = catb.CatBoostClassifier(**cb_params)\n",
    "model_catb.fit(X = x_train, y = y_train, eval_set=[(x_valid, y_valid)])"
   ]
  },
  {
   "cell_type": "code",
   "execution_count": 7,
   "metadata": {},
   "outputs": [
    {
     "name": "stdout",
     "output_type": "stream",
     "text": [
      "Train-score: 0.791, Valid-score: 0.766, Test-score: 0.771)\n"
     ]
    }
   ],
   "source": [
    "train_score = roc_auc_score(y_train, model_catb.predict(x_train, prediction_type = \"Probability\")[:,1])\n",
    "valid_score = roc_auc_score(y_valid, model_catb.predict(x_valid, prediction_type = \"Probability\")[:,1])\n",
    "test_score = roc_auc_score(y_test, model_catb.predict(x_test, prediction_type = \"Probability\")[:,1])\n",
    "\n",
    "print(f\"Train-score: {round(train_score, 3)}, Valid-score: {round(valid_score, 3)}, Test-score: {round(test_score, 3)})\")\n",
    "\n",
    "# Train-score: 0.791, Valid-score: 0.766, Test-score: 0.771)"
   ]
  },
  {
   "cell_type": "code",
   "execution_count": null,
   "metadata": {},
   "outputs": [],
   "source": []
  },
  {
   "cell_type": "code",
   "execution_count": null,
   "metadata": {},
   "outputs": [],
   "source": []
  },
  {
   "cell_type": "code",
   "execution_count": 8,
   "metadata": {},
   "outputs": [],
   "source": [
    "params = {\n",
    "    \"booster\": \"gbtree\",\n",
    "    \"objective\": \"binary:logistic\",\n",
    "    \"eval_metric\": \"auc\",\n",
    "    \"learning_rate\": 0.1,\n",
    "    \"n_estimators\": 600,\n",
    "    \"reg_lambda\": 100,\n",
    "    \"max_depth\": 7,\n",
    "    \"gamma\": 10,\n",
    "    \"nthread\": 6,\n",
    "    \"seed\": 27,\n",
    "    'colsample_bytree': 0.555,\n",
    "    'min_child_weights': 369\n",
    "}\n",
    "\n",
    "dtrain = xgb.DMatrix(\n",
    "    data=x_train, label=y_train\n",
    ")\n",
    "dvalid = xgb.DMatrix(\n",
    "    data=x_valid, label=y_valid\n",
    ")"
   ]
  },
  {
   "cell_type": "code",
   "execution_count": 9,
   "metadata": {},
   "outputs": [
    {
     "name": "stdout",
     "output_type": "stream",
     "text": [
      "[15:27:23] WARNING: C:/Users/Administrator/workspace/xgboost-win64_release_1.3.0/src/learner.cc:541: \n",
      "Parameters: { min_child_weights, n_estimators } might not be used.\n",
      "\n",
      "  This may not be accurate due to some parameters are only used in language bindings but\n",
      "  passed down to XGBoost core.  Or some parameters are not used but slip through this\n",
      "  verification. Please open an issue if you find above cases.\n",
      "\n",
      "\n",
      "[0]\ttrain-auc:0.50000\tvalid-auc:0.50000\n",
      "[10]\ttrain-auc:0.66051\tvalid-auc:0.65768\n",
      "[20]\ttrain-auc:0.70674\tvalid-auc:0.69666\n",
      "[30]\ttrain-auc:0.73293\tvalid-auc:0.71602\n",
      "[40]\ttrain-auc:0.75509\tvalid-auc:0.73222\n",
      "[50]\ttrain-auc:0.76902\tvalid-auc:0.74112\n",
      "[60]\ttrain-auc:0.77916\tvalid-auc:0.74809\n",
      "[70]\ttrain-auc:0.78785\tvalid-auc:0.75310\n",
      "[80]\ttrain-auc:0.79531\tvalid-auc:0.75714\n",
      "[90]\ttrain-auc:0.80109\tvalid-auc:0.76048\n",
      "[100]\ttrain-auc:0.80629\tvalid-auc:0.76238\n",
      "[110]\ttrain-auc:0.80983\tvalid-auc:0.76413\n",
      "[120]\ttrain-auc:0.81323\tvalid-auc:0.76550\n",
      "[130]\ttrain-auc:0.81631\tvalid-auc:0.76663\n",
      "[140]\ttrain-auc:0.81887\tvalid-auc:0.76789\n",
      "[150]\ttrain-auc:0.82109\tvalid-auc:0.76882\n",
      "[160]\ttrain-auc:0.82337\tvalid-auc:0.76980\n",
      "[170]\ttrain-auc:0.82517\tvalid-auc:0.77037\n",
      "[180]\ttrain-auc:0.82705\tvalid-auc:0.77108\n",
      "[190]\ttrain-auc:0.82860\tvalid-auc:0.77168\n",
      "[200]\ttrain-auc:0.82983\tvalid-auc:0.77200\n",
      "[210]\ttrain-auc:0.83130\tvalid-auc:0.77213\n",
      "[220]\ttrain-auc:0.83276\tvalid-auc:0.77238\n",
      "[230]\ttrain-auc:0.83378\tvalid-auc:0.77253\n",
      "[240]\ttrain-auc:0.83481\tvalid-auc:0.77293\n",
      "[250]\ttrain-auc:0.83555\tvalid-auc:0.77317\n",
      "[260]\ttrain-auc:0.83642\tvalid-auc:0.77330\n",
      "[270]\ttrain-auc:0.83728\tvalid-auc:0.77349\n",
      "[280]\ttrain-auc:0.83812\tvalid-auc:0.77362\n",
      "[290]\ttrain-auc:0.83903\tvalid-auc:0.77386\n",
      "[300]\ttrain-auc:0.83951\tvalid-auc:0.77398\n",
      "[310]\ttrain-auc:0.84026\tvalid-auc:0.77414\n",
      "[320]\ttrain-auc:0.84057\tvalid-auc:0.77415\n",
      "[330]\ttrain-auc:0.84127\tvalid-auc:0.77425\n",
      "[340]\ttrain-auc:0.84176\tvalid-auc:0.77426\n",
      "[350]\ttrain-auc:0.84248\tvalid-auc:0.77426\n",
      "[360]\ttrain-auc:0.84298\tvalid-auc:0.77432\n",
      "[370]\ttrain-auc:0.84359\tvalid-auc:0.77441\n",
      "[380]\ttrain-auc:0.84450\tvalid-auc:0.77438\n",
      "[390]\ttrain-auc:0.84499\tvalid-auc:0.77449\n",
      "[400]\ttrain-auc:0.84544\tvalid-auc:0.77455\n",
      "[410]\ttrain-auc:0.84618\tvalid-auc:0.77459\n",
      "[420]\ttrain-auc:0.84679\tvalid-auc:0.77451\n",
      "[430]\ttrain-auc:0.84696\tvalid-auc:0.77452\n",
      "[440]\ttrain-auc:0.84732\tvalid-auc:0.77454\n",
      "[450]\ttrain-auc:0.84778\tvalid-auc:0.77446\n",
      "[460]\ttrain-auc:0.84867\tvalid-auc:0.77454\n",
      "[463]\ttrain-auc:0.84880\tvalid-auc:0.77454\n"
     ]
    }
   ],
   "source": [
    "model_xgb = xgb.train(\n",
    "    params=params,\n",
    "    dtrain=dtrain,\n",
    "    num_boost_round=600,\n",
    "    evals=[(dtrain, \"train\"), (dvalid, \"valid\")],\n",
    "    early_stopping_rounds=50,\n",
    "    verbose_eval=10,\n",
    ")"
   ]
  },
  {
   "cell_type": "code",
   "execution_count": 10,
   "metadata": {},
   "outputs": [
    {
     "name": "stdout",
     "output_type": "stream",
     "text": [
      "Train-score: 0.849, Valid-score: 0.775, Test-score: 0.781)\n"
     ]
    }
   ],
   "source": [
    "train_score = roc_auc_score(y_train, model_xgb.predict(xgb.DMatrix(x_train)))\n",
    "valid_score = roc_auc_score(y_valid, model_xgb.predict(xgb.DMatrix(x_valid)))\n",
    "test_score = roc_auc_score(y_test, model_xgb.predict(xgb.DMatrix(x_test)))\n",
    "\n",
    "print(f\"Train-score: {round(train_score, 3)}, Valid-score: {round(valid_score, 3)}, Test-score: {round(test_score, 3)})\")\n",
    "\n",
    "# Train-score: 0.849, Valid-score: 0.775, Test-score: 0.781)"
   ]
  },
  {
   "cell_type": "code",
   "execution_count": null,
   "metadata": {},
   "outputs": [],
   "source": []
  },
  {
   "cell_type": "code",
   "execution_count": null,
   "metadata": {},
   "outputs": [],
   "source": []
  },
  {
   "cell_type": "code",
   "execution_count": 11,
   "metadata": {},
   "outputs": [],
   "source": [
    "params = {\n",
    "    \"boosting_type\": \"gbdt\",\n",
    "    \"objective\": \"binary\",\n",
    "    \"metric\": \"auc\",\n",
    "    \"learning_rate\": 0.01,\n",
    "    \"n_estimators\": 600,\n",
    "    \"n_jobs\": 6,\n",
    "    \"seed\": 27,\n",
    "}\n",
    "\n",
    "dtrain = lgbm.Dataset(\n",
    "    data=x_train, label=y_train\n",
    ")\n",
    "dvalid = lgbm.Dataset(\n",
    "    data=x_valid, label=y_valid\n",
    ")"
   ]
  },
  {
   "cell_type": "code",
   "execution_count": 12,
   "metadata": {},
   "outputs": [
    {
     "name": "stdout",
     "output_type": "stream",
     "text": [
      "[LightGBM] [Info] Number of positive: 18642, number of negative: 656025\n",
      "[LightGBM] [Warning] Auto-choosing col-wise multi-threading, the overhead of testing was 1.476997 seconds.\n",
      "You can set `force_col_wise=true` to remove the overhead.\n",
      "[LightGBM] [Info] Total Bins 95670\n",
      "[LightGBM] [Info] Number of data points in the train set: 674667, number of used features: 387\n",
      "[LightGBM] [Info] [binary:BoostFromScore]: pavg=0.027631 -> initscore=-3.560782\n",
      "[LightGBM] [Info] Start training from score -3.560782\n",
      "Training until validation scores don't improve for 50 rounds\n",
      "[10]\ttraining's auc: 0.700587\tvalid_1's auc: 0.692223\n",
      "[20]\ttraining's auc: 0.710047\tvalid_1's auc: 0.699948\n",
      "[30]\ttraining's auc: 0.716602\tvalid_1's auc: 0.70504\n",
      "[40]\ttraining's auc: 0.721006\tvalid_1's auc: 0.708416\n",
      "[50]\ttraining's auc: 0.724575\tvalid_1's auc: 0.711074\n",
      "[60]\ttraining's auc: 0.729179\tvalid_1's auc: 0.714544\n",
      "[70]\ttraining's auc: 0.732844\tvalid_1's auc: 0.717705\n",
      "[80]\ttraining's auc: 0.736204\tvalid_1's auc: 0.720232\n",
      "[90]\ttraining's auc: 0.739401\tvalid_1's auc: 0.722559\n",
      "[100]\ttraining's auc: 0.742827\tvalid_1's auc: 0.724987\n",
      "[110]\ttraining's auc: 0.745968\tvalid_1's auc: 0.727116\n",
      "[120]\ttraining's auc: 0.748635\tvalid_1's auc: 0.728765\n",
      "[130]\ttraining's auc: 0.751057\tvalid_1's auc: 0.730446\n",
      "[140]\ttraining's auc: 0.753463\tvalid_1's auc: 0.732022\n",
      "[150]\ttraining's auc: 0.755644\tvalid_1's auc: 0.733554\n",
      "[160]\ttraining's auc: 0.757894\tvalid_1's auc: 0.735082\n",
      "[170]\ttraining's auc: 0.75996\tvalid_1's auc: 0.736421\n",
      "[180]\ttraining's auc: 0.761828\tvalid_1's auc: 0.737712\n",
      "[190]\ttraining's auc: 0.763733\tvalid_1's auc: 0.738877\n",
      "[200]\ttraining's auc: 0.765652\tvalid_1's auc: 0.739868\n",
      "[210]\ttraining's auc: 0.767404\tvalid_1's auc: 0.740903\n",
      "[220]\ttraining's auc: 0.769034\tvalid_1's auc: 0.741679\n",
      "[230]\ttraining's auc: 0.770673\tvalid_1's auc: 0.742574\n",
      "[240]\ttraining's auc: 0.772095\tvalid_1's auc: 0.743437\n",
      "[250]\ttraining's auc: 0.773597\tvalid_1's auc: 0.744214\n",
      "[260]\ttraining's auc: 0.775075\tvalid_1's auc: 0.744956\n",
      "[270]\ttraining's auc: 0.776477\tvalid_1's auc: 0.745684\n",
      "[280]\ttraining's auc: 0.777835\tvalid_1's auc: 0.74645\n",
      "[290]\ttraining's auc: 0.779279\tvalid_1's auc: 0.74725\n",
      "[300]\ttraining's auc: 0.780684\tvalid_1's auc: 0.747925\n",
      "[310]\ttraining's auc: 0.782063\tvalid_1's auc: 0.748576\n",
      "[320]\ttraining's auc: 0.783398\tvalid_1's auc: 0.749222\n",
      "[330]\ttraining's auc: 0.784638\tvalid_1's auc: 0.749799\n",
      "[340]\ttraining's auc: 0.785889\tvalid_1's auc: 0.750422\n",
      "[350]\ttraining's auc: 0.787173\tvalid_1's auc: 0.751065\n",
      "[360]\ttraining's auc: 0.788444\tvalid_1's auc: 0.751702\n",
      "[370]\ttraining's auc: 0.789823\tvalid_1's auc: 0.752281\n",
      "[380]\ttraining's auc: 0.790862\tvalid_1's auc: 0.752747\n",
      "[390]\ttraining's auc: 0.792004\tvalid_1's auc: 0.753301\n",
      "[400]\ttraining's auc: 0.793208\tvalid_1's auc: 0.753799\n",
      "[410]\ttraining's auc: 0.794301\tvalid_1's auc: 0.754282\n",
      "[420]\ttraining's auc: 0.79529\tvalid_1's auc: 0.754792\n",
      "[430]\ttraining's auc: 0.796356\tvalid_1's auc: 0.755324\n",
      "[440]\ttraining's auc: 0.797407\tvalid_1's auc: 0.755786\n",
      "[450]\ttraining's auc: 0.798384\tvalid_1's auc: 0.756217\n",
      "[460]\ttraining's auc: 0.799452\tvalid_1's auc: 0.75662\n",
      "[470]\ttraining's auc: 0.800475\tvalid_1's auc: 0.756877\n",
      "[480]\ttraining's auc: 0.801496\tvalid_1's auc: 0.757184\n",
      "[490]\ttraining's auc: 0.802467\tvalid_1's auc: 0.75758\n",
      "[500]\ttraining's auc: 0.803488\tvalid_1's auc: 0.757895\n",
      "[510]\ttraining's auc: 0.80451\tvalid_1's auc: 0.758195\n",
      "[520]\ttraining's auc: 0.805503\tvalid_1's auc: 0.758651\n",
      "[530]\ttraining's auc: 0.806487\tvalid_1's auc: 0.759012\n",
      "[540]\ttraining's auc: 0.807331\tvalid_1's auc: 0.75931\n",
      "[550]\ttraining's auc: 0.808355\tvalid_1's auc: 0.759581\n",
      "[560]\ttraining's auc: 0.809261\tvalid_1's auc: 0.759932\n",
      "[570]\ttraining's auc: 0.810153\tvalid_1's auc: 0.760233\n",
      "[580]\ttraining's auc: 0.811091\tvalid_1's auc: 0.760496\n",
      "[590]\ttraining's auc: 0.812047\tvalid_1's auc: 0.760764\n",
      "[600]\ttraining's auc: 0.812891\tvalid_1's auc: 0.761035\n",
      "Did not meet early stopping. Best iteration is:\n",
      "[600]\ttraining's auc: 0.812891\tvalid_1's auc: 0.761035\n"
     ]
    }
   ],
   "source": [
    "model_lgb = lgbm.train(\n",
    "    params=params,\n",
    "    train_set=dtrain,\n",
    "    num_boost_round=600,\n",
    "    valid_sets=[dtrain, dvalid],\n",
    "    categorical_feature=\"auto\",\n",
    "    early_stopping_rounds=50,\n",
    "    verbose_eval=10\n",
    ")"
   ]
  },
  {
   "cell_type": "code",
   "execution_count": 13,
   "metadata": {},
   "outputs": [
    {
     "name": "stdout",
     "output_type": "stream",
     "text": [
      "Train-score: 0.813, Valid-score: 0.761, Test-score: 0.764)\n"
     ]
    }
   ],
   "source": [
    "train_score = roc_auc_score(y_train, model_lgb.predict(x_train))\n",
    "valid_score = roc_auc_score(y_valid, model_lgb.predict(x_valid))\n",
    "test_score = roc_auc_score(y_test, model_lgb.predict(x_test))\n",
    "\n",
    "print(f\"Train-score: {round(train_score, 3)}, Valid-score: {round(valid_score, 3)}, Test-score: {round(test_score, 3)})\")\n",
    "\n",
    "# Train-score: 0.813, Valid-score: 0.761, Test-score: 0.764)"
   ]
  },
  {
   "cell_type": "code",
   "execution_count": null,
   "metadata": {},
   "outputs": [],
   "source": []
  },
  {
   "cell_type": "code",
   "execution_count": null,
   "metadata": {},
   "outputs": [],
   "source": []
  },
  {
   "cell_type": "code",
   "execution_count": 14,
   "metadata": {},
   "outputs": [],
   "source": [
    "x_pred_train_cat = model_catb.predict(x_test, prediction_type =  \"Probability\")[:,1]\n",
    "x_pred_train_xgb = model_xgb.predict(xgb.DMatrix(data=x_test))\n",
    "x_pred_train_lgb = model_lgb.predict(x_test)"
   ]
  },
  {
   "cell_type": "code",
   "execution_count": 15,
   "metadata": {},
   "outputs": [],
   "source": [
    "y_pred_test_cat = model_catb.predict(test_data, prediction_type =  \"Probability\")[:,1]\n",
    "y_pred_test_xgb = model_xgb.predict(xgb.DMatrix(data=test_data))\n",
    "y_pred_test_lgb = model_lgb.predict(test_data)"
   ]
  },
  {
   "cell_type": "code",
   "execution_count": null,
   "metadata": {},
   "outputs": [],
   "source": []
  },
  {
   "cell_type": "code",
   "execution_count": null,
   "metadata": {},
   "outputs": [],
   "source": []
  },
  {
   "cell_type": "code",
   "execution_count": 43,
   "metadata": {},
   "outputs": [
    {
     "data": {
      "text/html": [
       "<div>\n",
       "<style scoped>\n",
       "    .dataframe tbody tr th:only-of-type {\n",
       "        vertical-align: middle;\n",
       "    }\n",
       "\n",
       "    .dataframe tbody tr th {\n",
       "        vertical-align: top;\n",
       "    }\n",
       "\n",
       "    .dataframe thead th {\n",
       "        text-align: right;\n",
       "    }\n",
       "</style>\n",
       "<table border=\"1\" class=\"dataframe\">\n",
       "  <thead>\n",
       "    <tr style=\"text-align: right;\">\n",
       "      <th></th>\n",
       "      <th>app_id</th>\n",
       "      <th>flag</th>\n",
       "    </tr>\n",
       "  </thead>\n",
       "  <tbody>\n",
       "    <tr>\n",
       "      <th>0</th>\n",
       "      <td>1063620</td>\n",
       "      <td>0.020593</td>\n",
       "    </tr>\n",
       "    <tr>\n",
       "      <th>1</th>\n",
       "      <td>1063621</td>\n",
       "      <td>0.043897</td>\n",
       "    </tr>\n",
       "  </tbody>\n",
       "</table>\n",
       "</div>"
      ],
      "text/plain": [
       "    app_id      flag\n",
       "0  1063620  0.020593\n",
       "1  1063621  0.043897"
      ]
     },
     "execution_count": 43,
     "metadata": {},
     "output_type": "execute_result"
    }
   ],
   "source": [
    "result_test_cat = pd.DataFrame({\n",
    "    \"app_id\": test_data['app_id'],\n",
    "    \"flag\": y_pred_test_cat})\n",
    "result_test_cat.head(2)"
   ]
  },
  {
   "cell_type": "code",
   "execution_count": 33,
   "metadata": {},
   "outputs": [
    {
     "data": {
      "text/html": [
       "<div>\n",
       "<style scoped>\n",
       "    .dataframe tbody tr th:only-of-type {\n",
       "        vertical-align: middle;\n",
       "    }\n",
       "\n",
       "    .dataframe tbody tr th {\n",
       "        vertical-align: top;\n",
       "    }\n",
       "\n",
       "    .dataframe thead th {\n",
       "        text-align: right;\n",
       "    }\n",
       "</style>\n",
       "<table border=\"1\" class=\"dataframe\">\n",
       "  <thead>\n",
       "    <tr style=\"text-align: right;\">\n",
       "      <th></th>\n",
       "      <th>app_id</th>\n",
       "      <th>flag</th>\n",
       "    </tr>\n",
       "  </thead>\n",
       "  <tbody>\n",
       "    <tr>\n",
       "      <th>0</th>\n",
       "      <td>1063620</td>\n",
       "      <td>0.012407</td>\n",
       "    </tr>\n",
       "    <tr>\n",
       "      <th>1</th>\n",
       "      <td>1063621</td>\n",
       "      <td>0.019296</td>\n",
       "    </tr>\n",
       "  </tbody>\n",
       "</table>\n",
       "</div>"
      ],
      "text/plain": [
       "    app_id      flag\n",
       "0  1063620  0.012407\n",
       "1  1063621  0.019296"
      ]
     },
     "execution_count": 33,
     "metadata": {},
     "output_type": "execute_result"
    }
   ],
   "source": [
    "result_test_xgb = pd.DataFrame({\n",
    "    \"app_id\": test_data['app_id'],\n",
    "    \"flag\": y_pred_test_xgb})\n",
    "result_test_xgb.head(2)"
   ]
  },
  {
   "cell_type": "code",
   "execution_count": 74,
   "metadata": {},
   "outputs": [],
   "source": [
    "filename = 'Tefi.csv'\n",
    "result_test_xgb.to_csv(filename, index=None)\n",
    "\n",
    "# 0.7424370"
   ]
  },
  {
   "cell_type": "code",
   "execution_count": 34,
   "metadata": {},
   "outputs": [
    {
     "data": {
      "text/html": [
       "<div>\n",
       "<style scoped>\n",
       "    .dataframe tbody tr th:only-of-type {\n",
       "        vertical-align: middle;\n",
       "    }\n",
       "\n",
       "    .dataframe tbody tr th {\n",
       "        vertical-align: top;\n",
       "    }\n",
       "\n",
       "    .dataframe thead th {\n",
       "        text-align: right;\n",
       "    }\n",
       "</style>\n",
       "<table border=\"1\" class=\"dataframe\">\n",
       "  <thead>\n",
       "    <tr style=\"text-align: right;\">\n",
       "      <th></th>\n",
       "      <th>app_id</th>\n",
       "      <th>flag</th>\n",
       "    </tr>\n",
       "  </thead>\n",
       "  <tbody>\n",
       "    <tr>\n",
       "      <th>0</th>\n",
       "      <td>1063620</td>\n",
       "      <td>0.013461</td>\n",
       "    </tr>\n",
       "    <tr>\n",
       "      <th>1</th>\n",
       "      <td>1063621</td>\n",
       "      <td>0.053269</td>\n",
       "    </tr>\n",
       "  </tbody>\n",
       "</table>\n",
       "</div>"
      ],
      "text/plain": [
       "    app_id      flag\n",
       "0  1063620  0.013461\n",
       "1  1063621  0.053269"
      ]
     },
     "execution_count": 34,
     "metadata": {},
     "output_type": "execute_result"
    }
   ],
   "source": [
    "result_test_lgb = pd.DataFrame({\n",
    "    \"app_id\": test_data['app_id'],\n",
    "    \"flag\": y_pred_test_lgb})\n",
    "result_test_lgb.head(2)"
   ]
  },
  {
   "cell_type": "code",
   "execution_count": null,
   "metadata": {},
   "outputs": [],
   "source": []
  },
  {
   "cell_type": "code",
   "execution_count": null,
   "metadata": {},
   "outputs": [],
   "source": []
  },
  {
   "cell_type": "code",
   "execution_count": null,
   "metadata": {},
   "outputs": [],
   "source": [
    "stop 1"
   ]
  },
  {
   "cell_type": "code",
   "execution_count": 63,
   "metadata": {},
   "outputs": [
    {
     "data": {
      "text/html": [
       "<div>\n",
       "<style scoped>\n",
       "    .dataframe tbody tr th:only-of-type {\n",
       "        vertical-align: middle;\n",
       "    }\n",
       "\n",
       "    .dataframe tbody tr th {\n",
       "        vertical-align: top;\n",
       "    }\n",
       "\n",
       "    .dataframe thead th {\n",
       "        text-align: right;\n",
       "    }\n",
       "</style>\n",
       "<table border=\"1\" class=\"dataframe\">\n",
       "  <thead>\n",
       "    <tr style=\"text-align: right;\">\n",
       "      <th></th>\n",
       "      <th>app_id</th>\n",
       "      <th>flag</th>\n",
       "    </tr>\n",
       "  </thead>\n",
       "  <tbody>\n",
       "    <tr>\n",
       "      <th>0</th>\n",
       "      <td>44024</td>\n",
       "      <td>0.015414</td>\n",
       "    </tr>\n",
       "    <tr>\n",
       "      <th>1</th>\n",
       "      <td>277968</td>\n",
       "      <td>0.003610</td>\n",
       "    </tr>\n",
       "  </tbody>\n",
       "</table>\n",
       "</div>"
      ],
      "text/plain": [
       "   app_id      flag\n",
       "0   44024  0.015414\n",
       "1  277968  0.003610"
      ]
     },
     "execution_count": 63,
     "metadata": {},
     "output_type": "execute_result"
    }
   ],
   "source": [
    "result_train_cat = pd.DataFrame({\n",
    "    \"app_id\": x_test.reset_index()['app_id'],\n",
    "    \"flag\": x_pred_train_cat})\n",
    "result_train_cat.head(2)"
   ]
  },
  {
   "cell_type": "code",
   "execution_count": 64,
   "metadata": {},
   "outputs": [
    {
     "data": {
      "text/html": [
       "<div>\n",
       "<style scoped>\n",
       "    .dataframe tbody tr th:only-of-type {\n",
       "        vertical-align: middle;\n",
       "    }\n",
       "\n",
       "    .dataframe tbody tr th {\n",
       "        vertical-align: top;\n",
       "    }\n",
       "\n",
       "    .dataframe thead th {\n",
       "        text-align: right;\n",
       "    }\n",
       "</style>\n",
       "<table border=\"1\" class=\"dataframe\">\n",
       "  <thead>\n",
       "    <tr style=\"text-align: right;\">\n",
       "      <th></th>\n",
       "      <th>app_id</th>\n",
       "      <th>flag</th>\n",
       "    </tr>\n",
       "  </thead>\n",
       "  <tbody>\n",
       "    <tr>\n",
       "      <th>0</th>\n",
       "      <td>44024</td>\n",
       "      <td>0.015673</td>\n",
       "    </tr>\n",
       "    <tr>\n",
       "      <th>1</th>\n",
       "      <td>277968</td>\n",
       "      <td>0.004268</td>\n",
       "    </tr>\n",
       "  </tbody>\n",
       "</table>\n",
       "</div>"
      ],
      "text/plain": [
       "   app_id      flag\n",
       "0   44024  0.015673\n",
       "1  277968  0.004268"
      ]
     },
     "execution_count": 64,
     "metadata": {},
     "output_type": "execute_result"
    }
   ],
   "source": [
    "result_train_xgb = pd.DataFrame({\n",
    "    \"app_id\": x_test.reset_index()['app_id'],\n",
    "    \"flag\": x_pred_train_xgb})\n",
    "result_train_xgb.head(2)"
   ]
  },
  {
   "cell_type": "code",
   "execution_count": 65,
   "metadata": {},
   "outputs": [
    {
     "data": {
      "text/html": [
       "<div>\n",
       "<style scoped>\n",
       "    .dataframe tbody tr th:only-of-type {\n",
       "        vertical-align: middle;\n",
       "    }\n",
       "\n",
       "    .dataframe tbody tr th {\n",
       "        vertical-align: top;\n",
       "    }\n",
       "\n",
       "    .dataframe thead th {\n",
       "        text-align: right;\n",
       "    }\n",
       "</style>\n",
       "<table border=\"1\" class=\"dataframe\">\n",
       "  <thead>\n",
       "    <tr style=\"text-align: right;\">\n",
       "      <th></th>\n",
       "      <th>app_id</th>\n",
       "      <th>flag</th>\n",
       "    </tr>\n",
       "  </thead>\n",
       "  <tbody>\n",
       "    <tr>\n",
       "      <th>0</th>\n",
       "      <td>44024</td>\n",
       "      <td>0.017624</td>\n",
       "    </tr>\n",
       "    <tr>\n",
       "      <th>1</th>\n",
       "      <td>277968</td>\n",
       "      <td>0.007004</td>\n",
       "    </tr>\n",
       "  </tbody>\n",
       "</table>\n",
       "</div>"
      ],
      "text/plain": [
       "   app_id      flag\n",
       "0   44024  0.017624\n",
       "1  277968  0.007004"
      ]
     },
     "execution_count": 65,
     "metadata": {},
     "output_type": "execute_result"
    }
   ],
   "source": [
    "result_train_lgb = pd.DataFrame({\n",
    "    \"app_id\": x_test.reset_index()['app_id'],\n",
    "    \"flag\": x_pred_train_lgb})\n",
    "result_train_lgb.head(2)"
   ]
  },
  {
   "cell_type": "code",
   "execution_count": null,
   "metadata": {},
   "outputs": [],
   "source": []
  },
  {
   "cell_type": "code",
   "execution_count": null,
   "metadata": {},
   "outputs": [],
   "source": []
  },
  {
   "cell_type": "code",
   "execution_count": 66,
   "metadata": {},
   "outputs": [
    {
     "data": {
      "text/html": [
       "<div>\n",
       "<style scoped>\n",
       "    .dataframe tbody tr th:only-of-type {\n",
       "        vertical-align: middle;\n",
       "    }\n",
       "\n",
       "    .dataframe tbody tr th {\n",
       "        vertical-align: top;\n",
       "    }\n",
       "\n",
       "    .dataframe thead th {\n",
       "        text-align: right;\n",
       "    }\n",
       "</style>\n",
       "<table border=\"1\" class=\"dataframe\">\n",
       "  <thead>\n",
       "    <tr style=\"text-align: right;\">\n",
       "      <th></th>\n",
       "      <th>app_id</th>\n",
       "      <th>flag</th>\n",
       "    </tr>\n",
       "  </thead>\n",
       "  <tbody>\n",
       "    <tr>\n",
       "      <th>0</th>\n",
       "      <td>44024</td>\n",
       "      <td>0.016237</td>\n",
       "    </tr>\n",
       "    <tr>\n",
       "      <th>1</th>\n",
       "      <td>277968</td>\n",
       "      <td>0.004960</td>\n",
       "    </tr>\n",
       "  </tbody>\n",
       "</table>\n",
       "</div>"
      ],
      "text/plain": [
       "   app_id      flag\n",
       "0   44024  0.016237\n",
       "1  277968  0.004960"
      ]
     },
     "execution_count": 66,
     "metadata": {},
     "output_type": "execute_result"
    }
   ],
   "source": [
    "res_train = result_train_cat.copy()\n",
    "res_train['flag'] = (result_train_cat['flag'] + result_train_xgb['flag'] + result_train_lgb['flag']) / 3\n",
    "res_train.head(2)"
   ]
  },
  {
   "cell_type": "code",
   "execution_count": 67,
   "metadata": {},
   "outputs": [
    {
     "data": {
      "text/plain": [
       "0.7764552338368833"
      ]
     },
     "execution_count": 67,
     "metadata": {},
     "output_type": "execute_result"
    }
   ],
   "source": [
    "r = roc_auc_score(y_test, res_train['flag'])\n",
    "r"
   ]
  },
  {
   "cell_type": "code",
   "execution_count": null,
   "metadata": {},
   "outputs": [],
   "source": []
  },
  {
   "cell_type": "code",
   "execution_count": 68,
   "metadata": {},
   "outputs": [
    {
     "data": {
      "text/html": [
       "<div>\n",
       "<style scoped>\n",
       "    .dataframe tbody tr th:only-of-type {\n",
       "        vertical-align: middle;\n",
       "    }\n",
       "\n",
       "    .dataframe tbody tr th {\n",
       "        vertical-align: top;\n",
       "    }\n",
       "\n",
       "    .dataframe thead th {\n",
       "        text-align: right;\n",
       "    }\n",
       "</style>\n",
       "<table border=\"1\" class=\"dataframe\">\n",
       "  <thead>\n",
       "    <tr style=\"text-align: right;\">\n",
       "      <th></th>\n",
       "      <th>app_id</th>\n",
       "      <th>flag</th>\n",
       "    </tr>\n",
       "  </thead>\n",
       "  <tbody>\n",
       "    <tr>\n",
       "      <th>0</th>\n",
       "      <td>44024</td>\n",
       "      <td>0.015960</td>\n",
       "    </tr>\n",
       "    <tr>\n",
       "      <th>1</th>\n",
       "      <td>277968</td>\n",
       "      <td>0.004552</td>\n",
       "    </tr>\n",
       "  </tbody>\n",
       "</table>\n",
       "</div>"
      ],
      "text/plain": [
       "   app_id      flag\n",
       "0   44024  0.015960\n",
       "1  277968  0.004552"
      ]
     },
     "execution_count": 68,
     "metadata": {},
     "output_type": "execute_result"
    }
   ],
   "source": [
    "res_train = result_train_cat.copy()\n",
    "res_train['flag'] = result_train_cat['flag']*0.4 + result_train_xgb['flag']*0.4 + result_train_lgb['flag']*0.2\n",
    "res_train.head(2)"
   ]
  },
  {
   "cell_type": "code",
   "execution_count": 69,
   "metadata": {},
   "outputs": [
    {
     "data": {
      "text/plain": [
       "0.7777979665084374"
      ]
     },
     "execution_count": 69,
     "metadata": {},
     "output_type": "execute_result"
    }
   ],
   "source": [
    "r = roc_auc_score(y_test, res_train['flag'])\n",
    "r"
   ]
  },
  {
   "cell_type": "code",
   "execution_count": null,
   "metadata": {},
   "outputs": [],
   "source": []
  },
  {
   "cell_type": "code",
   "execution_count": 72,
   "metadata": {},
   "outputs": [
    {
     "data": {
      "text/html": [
       "<div>\n",
       "<style scoped>\n",
       "    .dataframe tbody tr th:only-of-type {\n",
       "        vertical-align: middle;\n",
       "    }\n",
       "\n",
       "    .dataframe tbody tr th {\n",
       "        vertical-align: top;\n",
       "    }\n",
       "\n",
       "    .dataframe thead th {\n",
       "        text-align: right;\n",
       "    }\n",
       "</style>\n",
       "<table border=\"1\" class=\"dataframe\">\n",
       "  <thead>\n",
       "    <tr style=\"text-align: right;\">\n",
       "      <th></th>\n",
       "      <th>app_id</th>\n",
       "      <th>flag</th>\n",
       "    </tr>\n",
       "  </thead>\n",
       "  <tbody>\n",
       "    <tr>\n",
       "      <th>0</th>\n",
       "      <td>44024</td>\n",
       "      <td>0.015986</td>\n",
       "    </tr>\n",
       "    <tr>\n",
       "      <th>1</th>\n",
       "      <td>277968</td>\n",
       "      <td>0.004618</td>\n",
       "    </tr>\n",
       "  </tbody>\n",
       "</table>\n",
       "</div>"
      ],
      "text/plain": [
       "   app_id      flag\n",
       "0   44024  0.015986\n",
       "1  277968  0.004618"
      ]
     },
     "execution_count": 72,
     "metadata": {},
     "output_type": "execute_result"
    }
   ],
   "source": [
    "res_train = result_train_cat.copy()\n",
    "res_train['flag'] = result_train_cat['flag']*0.3 + result_train_xgb['flag']*0.5 + result_train_lgb['flag']*0.2\n",
    "res_train.head(2)"
   ]
  },
  {
   "cell_type": "code",
   "execution_count": 73,
   "metadata": {},
   "outputs": [
    {
     "data": {
      "text/plain": [
       "0.778748837264803"
      ]
     },
     "execution_count": 73,
     "metadata": {},
     "output_type": "execute_result"
    }
   ],
   "source": [
    "r = roc_auc_score(y_test, res_train['flag'])\n",
    "r"
   ]
  },
  {
   "cell_type": "code",
   "execution_count": null,
   "metadata": {},
   "outputs": [],
   "source": []
  },
  {
   "cell_type": "code",
   "execution_count": null,
   "metadata": {},
   "outputs": [],
   "source": []
  },
  {
   "cell_type": "code",
   "execution_count": 75,
   "metadata": {},
   "outputs": [
    {
     "data": {
      "text/html": [
       "<div>\n",
       "<style scoped>\n",
       "    .dataframe tbody tr th:only-of-type {\n",
       "        vertical-align: middle;\n",
       "    }\n",
       "\n",
       "    .dataframe tbody tr th {\n",
       "        vertical-align: top;\n",
       "    }\n",
       "\n",
       "    .dataframe thead th {\n",
       "        text-align: right;\n",
       "    }\n",
       "</style>\n",
       "<table border=\"1\" class=\"dataframe\">\n",
       "  <thead>\n",
       "    <tr style=\"text-align: right;\">\n",
       "      <th></th>\n",
       "      <th>app_id</th>\n",
       "      <th>flag</th>\n",
       "    </tr>\n",
       "  </thead>\n",
       "  <tbody>\n",
       "    <tr>\n",
       "      <th>0</th>\n",
       "      <td>1063620</td>\n",
       "      <td>0.015074</td>\n",
       "    </tr>\n",
       "    <tr>\n",
       "      <th>1</th>\n",
       "      <td>1063621</td>\n",
       "      <td>0.033471</td>\n",
       "    </tr>\n",
       "  </tbody>\n",
       "</table>\n",
       "</div>"
      ],
      "text/plain": [
       "    app_id      flag\n",
       "0  1063620  0.015074\n",
       "1  1063621  0.033471"
      ]
     },
     "execution_count": 75,
     "metadata": {},
     "output_type": "execute_result"
    }
   ],
   "source": [
    "res_test = result_test_cat.copy()\n",
    "res_test['flag'] = result_test_cat['flag']*0.3 + result_test_xgb['flag']*0.5 + result_test_lgb['flag']*0.2\n",
    "res_test.head(2)"
   ]
  },
  {
   "cell_type": "code",
   "execution_count": 76,
   "metadata": {},
   "outputs": [],
   "source": [
    "filename = 'Tefi_1.csv'\n",
    "res_test.to_csv(filename, index=None)\n",
    "\n",
    "# 0.741411"
   ]
  },
  {
   "cell_type": "code",
   "execution_count": null,
   "metadata": {},
   "outputs": [],
   "source": []
  },
  {
   "cell_type": "code",
   "execution_count": null,
   "metadata": {},
   "outputs": [],
   "source": []
  },
  {
   "cell_type": "code",
   "execution_count": null,
   "metadata": {},
   "outputs": [],
   "source": []
  },
  {
   "cell_type": "code",
   "execution_count": null,
   "metadata": {},
   "outputs": [],
   "source": [
    "stop 2"
   ]
  },
  {
   "cell_type": "code",
   "execution_count": null,
   "metadata": {},
   "outputs": [],
   "source": []
  },
  {
   "cell_type": "code",
   "execution_count": 23,
   "metadata": {},
   "outputs": [],
   "source": [
    "#x_pred_train_cat = pd.Series(x_pred_train_cat) \n",
    "#x_pred_train_xgb = pd.Series(x_pred_train_xgb) \n",
    "#x_pred_train_lgb = pd.Series(x_pred_train_lgb) "
   ]
  },
  {
   "cell_type": "code",
   "execution_count": 24,
   "metadata": {},
   "outputs": [],
   "source": [
    "#x_pred_train_cat.to_pickle(\"x_pred_train_cat.pkl\")\n",
    "#x_pred_train_xgb.to_pickle(\"x_pred_train_xgb.pkl\")\n",
    "#x_pred_train_lgb.to_pickle(\"x_pred_train_lgb.pkl\")"
   ]
  },
  {
   "cell_type": "code",
   "execution_count": 27,
   "metadata": {},
   "outputs": [],
   "source": [
    "#y_pred_test_cat = pd.Series(y_pred_test_cat) \n",
    "#y_pred_test_xgb = pd.Series(y_pred_test_xgb) \n",
    "#y_pred_test_lgb = pd.Series(y_pred_test_lgb) "
   ]
  },
  {
   "cell_type": "code",
   "execution_count": 28,
   "metadata": {},
   "outputs": [],
   "source": [
    "#y_pred_test_cat.to_pickle(\"y_pred_test_cat.pkl\")\n",
    "#y_pred_test_xgb.to_pickle(\"y_pred_test_xgb.pkl\")\n",
    "#y_pred_test_lgb.to_pickle(\"y_pred_test_lgb.pkl\")"
   ]
  },
  {
   "cell_type": "code",
   "execution_count": 25,
   "metadata": {},
   "outputs": [],
   "source": [
    "#a = pd.read_pickle(\"x_pred_train_cat.pkl\")"
   ]
  }
 ],
 "metadata": {
  "kernelspec": {
   "display_name": "Python 3",
   "language": "python",
   "name": "python3"
  },
  "language_info": {
   "codemirror_mode": {
    "name": "ipython",
    "version": 3
   },
   "file_extension": ".py",
   "mimetype": "text/x-python",
   "name": "python",
   "nbconvert_exporter": "python",
   "pygments_lexer": "ipython3",
   "version": "3.8.5"
  }
 },
 "nbformat": 4,
 "nbformat_minor": 4
}
