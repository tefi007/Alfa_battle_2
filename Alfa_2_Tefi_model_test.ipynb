{
 "cells": [
  {
   "cell_type": "code",
   "execution_count": 1,
   "metadata": {},
   "outputs": [],
   "source": [
    "import numpy as np\n",
    "import pandas as pd\n",
    "pd.options.display.max_columns = 100\n",
    "from matplotlib import pyplot as plt\n",
    "%matplotlib inline\n",
    "import seaborn as sns\n",
    "\n",
    "import warnings\n",
    "warnings.simplefilter(\"ignore\")\n",
    "\n",
    "from sklearn.model_selection import train_test_split   # разделение выборки на train и test\n",
    "\n",
    "from sklearn.model_selection import cross_val_score     # кросс-валидация\n",
    "from sklearn.model_selection import cross_val_predict\n",
    "\n",
    "import xgboost as xgb, lightgbm as lgbm, catboost as catb\n",
    "\n",
    "from sklearn.metrics import roc_auc_score\n",
    "\n",
    "from sklearn.model_selection import KFold, GridSearchCV, RandomizedSearchCV\n",
    "from bayes_opt import BayesianOptimization"
   ]
  },
  {
   "cell_type": "code",
   "execution_count": 2,
   "metadata": {},
   "outputs": [],
   "source": [
    "path_2 = 'C:/Tefi/Alfa/Data/'\n",
    "\n",
    "train_target = pd.read_csv(f'{path_2}alfabattle2_train_target.csv')\n",
    "test_target = pd.read_csv(f'{path_2}alfabattle2_test_target_contest.csv')\n",
    "sample = pd.read_csv(f'{path_2}alfabattle2_alpha_sample.csv')\n",
    "\n",
    "path = 'C:/Tefi/Alfa/Data_pro/'\n",
    "\n",
    "train_data_1 = pd.read_parquet(f'{path}train_data_1_pro.parquet', engine='pyarrow')\n",
    "train_data_2 = pd.read_parquet(f'{path}train_data_2_pro.parquet', engine='pyarrow')\n",
    "train_data_3 = pd.read_parquet(f'{path}train_data_3_pro.parquet', engine='pyarrow')\n",
    "train_data_4 = pd.read_parquet(f'{path}train_data_4_pro.parquet', engine='pyarrow')\n",
    "train_data_5 = pd.read_parquet(f'{path}train_data_5_pro.parquet', engine='pyarrow')\n",
    "\n",
    "train_data = train_data_1.copy()\n",
    "train_data = pd.concat([train_data, train_data_2], axis=0, ignore_index=True)\n",
    "train_data = pd.concat([train_data, train_data_3], axis=0, ignore_index=True)\n",
    "train_data = pd.concat([train_data, train_data_4], axis=0, ignore_index=True)\n",
    "train_data = pd.concat([train_data, train_data_5], axis=0, ignore_index=True)\n",
    "\n",
    "train_data = pd.merge(train_data, train_target, on='app_id', how='inner')\n",
    "train_target = train_data['flag']\n",
    "train_data.drop(['flag'], axis = 1, inplace = True)\n"
   ]
  },
  {
   "cell_type": "code",
   "execution_count": null,
   "metadata": {},
   "outputs": [],
   "source": []
  },
  {
   "cell_type": "code",
   "execution_count": null,
   "metadata": {},
   "outputs": [],
   "source": []
  },
  {
   "cell_type": "code",
   "execution_count": 6,
   "metadata": {},
   "outputs": [],
   "source": [
    "x_train, x_valid, y_train, y_valid = train_test_split(train_data, train_target, test_size=0.30)\n",
    "x_valid, x_test, y_valid, y_test = train_test_split(x_valid, y_valid, test_size=0.30)"
   ]
  },
  {
   "cell_type": "code",
   "execution_count": 7,
   "metadata": {},
   "outputs": [
    {
     "name": "stdout",
     "output_type": "stream",
     "text": [
      "0:\ttest: 0.5561963\tbest: 0.5561963 (0)\ttotal: 287ms\tremaining: 2m 51s\n",
      "10:\ttest: 0.5983422\tbest: 0.5998506 (8)\ttotal: 1.04s\tremaining: 55.7s\n",
      "20:\ttest: 0.6084929\tbest: 0.6117935 (15)\ttotal: 1.72s\tremaining: 47.4s\n",
      "30:\ttest: 0.6373023\tbest: 0.6373023 (30)\ttotal: 2.5s\tremaining: 45.8s\n",
      "40:\ttest: 0.6536189\tbest: 0.6536189 (40)\ttotal: 3.26s\tremaining: 44.4s\n",
      "50:\ttest: 0.6630649\tbest: 0.6630649 (50)\ttotal: 4.04s\tremaining: 43.5s\n",
      "60:\ttest: 0.6776042\tbest: 0.6776042 (60)\ttotal: 4.79s\tremaining: 42.4s\n",
      "70:\ttest: 0.6849677\tbest: 0.6849677 (70)\ttotal: 5.57s\tremaining: 41.5s\n",
      "80:\ttest: 0.6922105\tbest: 0.6922105 (80)\ttotal: 6.35s\tremaining: 40.7s\n",
      "90:\ttest: 0.6988855\tbest: 0.6988855 (90)\ttotal: 7.14s\tremaining: 40s\n",
      "100:\ttest: 0.7024561\tbest: 0.7024561 (100)\ttotal: 8s\tremaining: 39.5s\n",
      "110:\ttest: 0.7064194\tbest: 0.7064194 (110)\ttotal: 8.82s\tremaining: 38.9s\n",
      "120:\ttest: 0.7095203\tbest: 0.7095203 (120)\ttotal: 9.61s\tremaining: 38s\n",
      "130:\ttest: 0.7126196\tbest: 0.7126196 (130)\ttotal: 10.4s\tremaining: 37.3s\n",
      "140:\ttest: 0.7149718\tbest: 0.7149718 (140)\ttotal: 11.3s\tremaining: 36.7s\n",
      "150:\ttest: 0.7162776\tbest: 0.7162776 (150)\ttotal: 12.1s\tremaining: 36s\n",
      "160:\ttest: 0.7176626\tbest: 0.7176626 (160)\ttotal: 13s\tremaining: 35.4s\n",
      "170:\ttest: 0.7192241\tbest: 0.7192241 (170)\ttotal: 13.8s\tremaining: 34.5s\n",
      "180:\ttest: 0.7203753\tbest: 0.7203753 (180)\ttotal: 14.6s\tremaining: 33.7s\n",
      "190:\ttest: 0.7215732\tbest: 0.7215732 (190)\ttotal: 15.4s\tremaining: 33s\n",
      "200:\ttest: 0.7220522\tbest: 0.7221854 (196)\ttotal: 16.2s\tremaining: 32.2s\n",
      "210:\ttest: 0.7223985\tbest: 0.7225618 (208)\ttotal: 17s\tremaining: 31.4s\n",
      "220:\ttest: 0.7233866\tbest: 0.7234573 (218)\ttotal: 17.8s\tremaining: 30.6s\n",
      "230:\ttest: 0.7246641\tbest: 0.7246641 (230)\ttotal: 18.6s\tremaining: 29.8s\n",
      "240:\ttest: 0.7257042\tbest: 0.7257276 (239)\ttotal: 19.4s\tremaining: 28.9s\n",
      "250:\ttest: 0.7263647\tbest: 0.7263647 (250)\ttotal: 20.1s\tremaining: 28s\n",
      "260:\ttest: 0.7271580\tbest: 0.7272934 (258)\ttotal: 20.9s\tremaining: 27.2s\n",
      "270:\ttest: 0.7278083\tbest: 0.7278083 (270)\ttotal: 21.7s\tremaining: 26.3s\n",
      "280:\ttest: 0.7283294\tbest: 0.7283294 (280)\ttotal: 22.4s\tremaining: 25.5s\n",
      "290:\ttest: 0.7295326\tbest: 0.7295740 (288)\ttotal: 23.2s\tremaining: 24.6s\n",
      "300:\ttest: 0.7298367\tbest: 0.7298367 (300)\ttotal: 24s\tremaining: 23.9s\n",
      "310:\ttest: 0.7305058\tbest: 0.7305058 (310)\ttotal: 24.8s\tremaining: 23.1s\n",
      "320:\ttest: 0.7309127\tbest: 0.7309547 (319)\ttotal: 25.6s\tremaining: 22.2s\n",
      "330:\ttest: 0.7316116\tbest: 0.7316116 (330)\ttotal: 26.4s\tremaining: 21.4s\n",
      "340:\ttest: 0.7322715\tbest: 0.7322715 (340)\ttotal: 27.2s\tremaining: 20.7s\n",
      "350:\ttest: 0.7326997\tbest: 0.7327258 (344)\ttotal: 28.1s\tremaining: 19.9s\n",
      "360:\ttest: 0.7333194\tbest: 0.7333199 (358)\ttotal: 28.9s\tremaining: 19.1s\n",
      "370:\ttest: 0.7341025\tbest: 0.7341025 (370)\ttotal: 29.6s\tremaining: 18.3s\n",
      "380:\ttest: 0.7344232\tbest: 0.7344638 (378)\ttotal: 30.4s\tremaining: 17.5s\n",
      "390:\ttest: 0.7348493\tbest: 0.7348493 (390)\ttotal: 31.2s\tremaining: 16.7s\n",
      "400:\ttest: 0.7347020\tbest: 0.7350191 (395)\ttotal: 31.9s\tremaining: 15.8s\n",
      "410:\ttest: 0.7353154\tbest: 0.7353358 (408)\ttotal: 32.6s\tremaining: 15s\n",
      "420:\ttest: 0.7359527\tbest: 0.7359527 (420)\ttotal: 33.4s\tremaining: 14.2s\n",
      "430:\ttest: 0.7361251\tbest: 0.7362193 (423)\ttotal: 34.2s\tremaining: 13.4s\n",
      "440:\ttest: 0.7365220\tbest: 0.7365220 (440)\ttotal: 35s\tremaining: 12.6s\n",
      "450:\ttest: 0.7367563\tbest: 0.7367563 (450)\ttotal: 35.8s\tremaining: 11.8s\n",
      "460:\ttest: 0.7369177\tbest: 0.7369177 (460)\ttotal: 36.6s\tremaining: 11s\n",
      "470:\ttest: 0.7368898\tbest: 0.7369538 (463)\ttotal: 37.3s\tremaining: 10.2s\n",
      "480:\ttest: 0.7369388\tbest: 0.7369538 (463)\ttotal: 38s\tremaining: 9.4s\n",
      "490:\ttest: 0.7373180\tbest: 0.7373180 (490)\ttotal: 38.8s\tremaining: 8.61s\n",
      "500:\ttest: 0.7373694\tbest: 0.7374007 (495)\ttotal: 39.5s\tremaining: 7.81s\n",
      "510:\ttest: 0.7375676\tbest: 0.7376027 (503)\ttotal: 40.3s\tremaining: 7.02s\n",
      "520:\ttest: 0.7377112\tbest: 0.7377871 (518)\ttotal: 41s\tremaining: 6.22s\n",
      "530:\ttest: 0.7379110\tbest: 0.7379809 (527)\ttotal: 41.8s\tremaining: 5.43s\n",
      "540:\ttest: 0.7382604\tbest: 0.7382604 (540)\ttotal: 42.5s\tremaining: 4.63s\n",
      "550:\ttest: 0.7384731\tbest: 0.7385228 (546)\ttotal: 43.2s\tremaining: 3.84s\n",
      "560:\ttest: 0.7384147\tbest: 0.7386218 (553)\ttotal: 44s\tremaining: 3.06s\n",
      "570:\ttest: 0.7386874\tbest: 0.7386874 (570)\ttotal: 44.7s\tremaining: 2.27s\n",
      "580:\ttest: 0.7385082\tbest: 0.7386874 (570)\ttotal: 45.5s\tremaining: 1.49s\n",
      "590:\ttest: 0.7387661\tbest: 0.7387774 (588)\ttotal: 46.3s\tremaining: 705ms\n",
      "599:\ttest: 0.7389105\tbest: 0.7389745 (598)\ttotal: 47s\tremaining: 0us\n",
      "\n",
      "bestTest = 0.7389744867\n",
      "bestIteration = 598\n",
      "\n",
      "Shrink model to first 599 iterations.\n"
     ]
    },
    {
     "data": {
      "text/plain": [
       "<catboost.core.CatBoostClassifier at 0x20788a42bb0>"
      ]
     },
     "execution_count": 7,
     "metadata": {},
     "output_type": "execute_result"
    }
   ],
   "source": [
    "cb_params = {\n",
    "    \"n_estimators\": 600,\n",
    "    \"loss_function\": \"Logloss\",\n",
    "    \"eval_metric\": \"AUC\",\n",
    "    \"task_type\": \"CPU\",\n",
    "    \"max_bin\": 20,\n",
    "    \"verbose\": 10,\n",
    "    \"max_depth\": 7,\n",
    "    \"l2_leaf_reg\": 100,\n",
    "    \"early_stopping_rounds\": 50,\n",
    "    \"thread_count\": 6,\n",
    "    \"random_seed\": 42,\n",
    "}\n",
    "\n",
    "model_catb = catb.CatBoostClassifier(**cb_params)\n",
    "model_catb.fit(X = x_train, y = y_train, eval_set=[(x_valid, y_valid)])"
   ]
  },
  {
   "cell_type": "code",
   "execution_count": 8,
   "metadata": {},
   "outputs": [
    {
     "name": "stdout",
     "output_type": "stream",
     "text": [
      "Train-score: 0.863, Valid-score: 0.739, Test-score: 0.734)\n"
     ]
    }
   ],
   "source": [
    "train_score = roc_auc_score(y_train, model_catb.predict(x_train, prediction_type = \"Probability\")[:,1])\n",
    "valid_score = roc_auc_score(y_valid, model_catb.predict(x_valid, prediction_type = \"Probability\")[:,1])\n",
    "test_score = roc_auc_score(y_test, model_catb.predict(x_test, prediction_type = \"Probability\")[:,1])\n",
    "\n",
    "print(f\"Train-score: {round(train_score, 3)}, Valid-score: {round(valid_score, 3)}, Test-score: {round(test_score, 3)})\")\n",
    "\n",
    "# Train-score: 0.863, Valid-score: 0.739, Test-score: 0.734)"
   ]
  },
  {
   "cell_type": "code",
   "execution_count": null,
   "metadata": {},
   "outputs": [],
   "source": []
  },
  {
   "cell_type": "code",
   "execution_count": null,
   "metadata": {},
   "outputs": [],
   "source": []
  },
  {
   "cell_type": "code",
   "execution_count": 9,
   "metadata": {},
   "outputs": [],
   "source": [
    "params = {\n",
    "    \"booster\": \"gbtree\",\n",
    "    \"objective\": \"binary:logistic\",\n",
    "    \"eval_metric\": \"auc\",\n",
    "    \"learning_rate\": 0.1,\n",
    "    \"n_estimators\": 600,\n",
    "    \"reg_lambda\": 100,\n",
    "    \"max_depth\": 7,\n",
    "    \"gamma\": 10,\n",
    "    \"nthread\": 6,\n",
    "    \"seed\": 27,\n",
    "    'colsample_bytree': 0.555,\n",
    "    'min_child_weights': 369\n",
    "}\n",
    "\n",
    "dtrain = xgb.DMatrix(\n",
    "    data=x_train, label=y_train\n",
    ")\n",
    "dvalid = xgb.DMatrix(\n",
    "    data=x_valid, label=y_valid\n",
    ")"
   ]
  },
  {
   "cell_type": "code",
   "execution_count": 10,
   "metadata": {},
   "outputs": [
    {
     "name": "stdout",
     "output_type": "stream",
     "text": [
      "[13:53:21] WARNING: C:/Users/Administrator/workspace/xgboost-win64_release_1.3.0/src/learner.cc:541: \n",
      "Parameters: { min_child_weights, n_estimators } might not be used.\n",
      "\n",
      "  This may not be accurate due to some parameters are only used in language bindings but\n",
      "  passed down to XGBoost core.  Or some parameters are not used but slip through this\n",
      "  verification. Please open an issue if you find above cases.\n",
      "\n",
      "\n",
      "[0]\ttrain-auc:0.50000\tvalid-auc:0.50000\n",
      "[10]\ttrain-auc:0.50000\tvalid-auc:0.50000\n",
      "[20]\ttrain-auc:0.61425\tvalid-auc:0.59282\n",
      "[30]\ttrain-auc:0.69767\tvalid-auc:0.67248\n",
      "[40]\ttrain-auc:0.72200\tvalid-auc:0.68750\n",
      "[50]\ttrain-auc:0.73904\tvalid-auc:0.69932\n",
      "[60]\ttrain-auc:0.75362\tvalid-auc:0.70760\n",
      "[70]\ttrain-auc:0.76658\tvalid-auc:0.71257\n",
      "[80]\ttrain-auc:0.77573\tvalid-auc:0.71894\n",
      "[90]\ttrain-auc:0.78201\tvalid-auc:0.72191\n",
      "[100]\ttrain-auc:0.78904\tvalid-auc:0.72476\n",
      "[110]\ttrain-auc:0.79589\tvalid-auc:0.72800\n",
      "[120]\ttrain-auc:0.80002\tvalid-auc:0.72983\n",
      "[130]\ttrain-auc:0.80315\tvalid-auc:0.73144\n",
      "[140]\ttrain-auc:0.80479\tvalid-auc:0.73246\n",
      "[150]\ttrain-auc:0.80735\tvalid-auc:0.73242\n",
      "[160]\ttrain-auc:0.80998\tvalid-auc:0.73352\n",
      "[170]\ttrain-auc:0.81061\tvalid-auc:0.73363\n",
      "[180]\ttrain-auc:0.81057\tvalid-auc:0.73368\n",
      "[190]\ttrain-auc:0.81188\tvalid-auc:0.73334\n",
      "[200]\ttrain-auc:0.81241\tvalid-auc:0.73357\n",
      "[210]\ttrain-auc:0.81351\tvalid-auc:0.73363\n",
      "[220]\ttrain-auc:0.81465\tvalid-auc:0.73388\n",
      "[230]\ttrain-auc:0.81505\tvalid-auc:0.73429\n",
      "[240]\ttrain-auc:0.81536\tvalid-auc:0.73427\n",
      "[250]\ttrain-auc:0.81536\tvalid-auc:0.73427\n",
      "[260]\ttrain-auc:0.81557\tvalid-auc:0.73447\n",
      "[270]\ttrain-auc:0.81609\tvalid-auc:0.73456\n",
      "[280]\ttrain-auc:0.81650\tvalid-auc:0.73416\n",
      "[290]\ttrain-auc:0.81650\tvalid-auc:0.73416\n",
      "[300]\ttrain-auc:0.81650\tvalid-auc:0.73416\n",
      "[310]\ttrain-auc:0.81650\tvalid-auc:0.73416\n",
      "[313]\ttrain-auc:0.81650\tvalid-auc:0.73416\n"
     ]
    }
   ],
   "source": [
    "model_xgb = xgb.train(\n",
    "    params=params,\n",
    "    dtrain=dtrain,\n",
    "    num_boost_round=600,\n",
    "    evals=[(dtrain, \"train\"), (dvalid, \"valid\")],\n",
    "    early_stopping_rounds=50,\n",
    "    verbose_eval=10,\n",
    ")"
   ]
  },
  {
   "cell_type": "code",
   "execution_count": 14,
   "metadata": {},
   "outputs": [
    {
     "name": "stdout",
     "output_type": "stream",
     "text": [
      "Train-score: 0.817, Valid-score: 0.734, Test-score: 0.735)\n"
     ]
    }
   ],
   "source": [
    "train_score = roc_auc_score(y_train, model_xgb.predict(xgb.DMatrix(x_train)))\n",
    "valid_score = roc_auc_score(y_valid, model_xgb.predict(xgb.DMatrix(x_valid)))\n",
    "test_score = roc_auc_score(y_test, model_xgb.predict(xgb.DMatrix(x_test)))\n",
    "\n",
    "print(f\"Train-score: {round(train_score, 3)}, Valid-score: {round(valid_score, 3)}, Test-score: {round(test_score, 3)})\")\n",
    "\n",
    "# Train-score: 0.817, Valid-score: 0.734, Test-score: 0.735)"
   ]
  },
  {
   "cell_type": "code",
   "execution_count": null,
   "metadata": {},
   "outputs": [],
   "source": []
  },
  {
   "cell_type": "code",
   "execution_count": null,
   "metadata": {},
   "outputs": [],
   "source": []
  },
  {
   "cell_type": "code",
   "execution_count": 15,
   "metadata": {},
   "outputs": [],
   "source": [
    "params = {\n",
    "    \"boosting_type\": \"gbdt\",\n",
    "    \"objective\": \"binary\",\n",
    "    \"metric\": \"auc\",\n",
    "    \"learning_rate\": 0.01,\n",
    "    \"n_estimators\": 600,\n",
    "    \"n_jobs\": 6,\n",
    "    \"seed\": 27,\n",
    "}\n",
    "\n",
    "dtrain = lgbm.Dataset(\n",
    "    data=x_train, label=y_train\n",
    ")\n",
    "dvalid = lgbm.Dataset(\n",
    "    data=x_valid, label=y_valid\n",
    ")"
   ]
  },
  {
   "cell_type": "code",
   "execution_count": 16,
   "metadata": {},
   "outputs": [
    {
     "name": "stdout",
     "output_type": "stream",
     "text": [
      "[LightGBM] [Info] Number of positive: 1834, number of negative: 75656\n",
      "[LightGBM] [Warning] Auto-choosing col-wise multi-threading, the overhead of testing was 0.183029 seconds.\n",
      "You can set `force_col_wise=true` to remove the overhead.\n",
      "[LightGBM] [Info] Total Bins 93665\n",
      "[LightGBM] [Info] Number of data points in the train set: 77490, number of used features: 377\n",
      "[LightGBM] [Info] [binary:BoostFromScore]: pavg=0.023668 -> initscore=-3.719697\n",
      "[LightGBM] [Info] Start training from score -3.719697\n",
      "Training until validation scores don't improve for 50 rounds\n",
      "[10]\ttraining's auc: 0.709059\tvalid_1's auc: 0.679748\n",
      "[20]\ttraining's auc: 0.722157\tvalid_1's auc: 0.68524\n",
      "[30]\ttraining's auc: 0.737049\tvalid_1's auc: 0.687125\n",
      "[40]\ttraining's auc: 0.760307\tvalid_1's auc: 0.691832\n",
      "[50]\ttraining's auc: 0.77489\tvalid_1's auc: 0.696832\n",
      "[60]\ttraining's auc: 0.784791\tvalid_1's auc: 0.69922\n",
      "[70]\ttraining's auc: 0.797003\tvalid_1's auc: 0.699651\n",
      "[80]\ttraining's auc: 0.810468\tvalid_1's auc: 0.700432\n",
      "[90]\ttraining's auc: 0.821337\tvalid_1's auc: 0.701743\n",
      "[100]\ttraining's auc: 0.833728\tvalid_1's auc: 0.704253\n",
      "[110]\ttraining's auc: 0.844844\tvalid_1's auc: 0.706628\n",
      "[120]\ttraining's auc: 0.851668\tvalid_1's auc: 0.707688\n",
      "[130]\ttraining's auc: 0.85869\tvalid_1's auc: 0.70802\n",
      "[140]\ttraining's auc: 0.864647\tvalid_1's auc: 0.70897\n",
      "[150]\ttraining's auc: 0.872448\tvalid_1's auc: 0.709327\n",
      "[160]\ttraining's auc: 0.880778\tvalid_1's auc: 0.710013\n",
      "[170]\ttraining's auc: 0.887029\tvalid_1's auc: 0.711396\n",
      "[180]\ttraining's auc: 0.892396\tvalid_1's auc: 0.711843\n",
      "[190]\ttraining's auc: 0.897157\tvalid_1's auc: 0.711718\n",
      "[200]\ttraining's auc: 0.900914\tvalid_1's auc: 0.712351\n",
      "[210]\ttraining's auc: 0.904723\tvalid_1's auc: 0.712743\n",
      "[220]\ttraining's auc: 0.907942\tvalid_1's auc: 0.712982\n",
      "[230]\ttraining's auc: 0.911865\tvalid_1's auc: 0.713277\n",
      "[240]\ttraining's auc: 0.91608\tvalid_1's auc: 0.714059\n",
      "[250]\ttraining's auc: 0.919829\tvalid_1's auc: 0.714175\n",
      "[260]\ttraining's auc: 0.923589\tvalid_1's auc: 0.714703\n",
      "[270]\ttraining's auc: 0.926952\tvalid_1's auc: 0.715391\n",
      "[280]\ttraining's auc: 0.930542\tvalid_1's auc: 0.716194\n",
      "[290]\ttraining's auc: 0.933427\tvalid_1's auc: 0.716568\n",
      "[300]\ttraining's auc: 0.93643\tvalid_1's auc: 0.71721\n",
      "[310]\ttraining's auc: 0.9394\tvalid_1's auc: 0.717999\n",
      "[320]\ttraining's auc: 0.942347\tvalid_1's auc: 0.718331\n",
      "[330]\ttraining's auc: 0.945237\tvalid_1's auc: 0.718889\n",
      "[340]\ttraining's auc: 0.947345\tvalid_1's auc: 0.719152\n",
      "[350]\ttraining's auc: 0.950032\tvalid_1's auc: 0.720177\n",
      "[360]\ttraining's auc: 0.952698\tvalid_1's auc: 0.720067\n",
      "[370]\ttraining's auc: 0.954589\tvalid_1's auc: 0.720427\n",
      "[380]\ttraining's auc: 0.956453\tvalid_1's auc: 0.720637\n",
      "[390]\ttraining's auc: 0.958309\tvalid_1's auc: 0.720904\n",
      "[400]\ttraining's auc: 0.959996\tvalid_1's auc: 0.720748\n",
      "[410]\ttraining's auc: 0.961624\tvalid_1's auc: 0.720995\n",
      "[420]\ttraining's auc: 0.963387\tvalid_1's auc: 0.721319\n",
      "[430]\ttraining's auc: 0.965276\tvalid_1's auc: 0.72131\n",
      "[440]\ttraining's auc: 0.966717\tvalid_1's auc: 0.721427\n",
      "[450]\ttraining's auc: 0.968485\tvalid_1's auc: 0.721617\n",
      "[460]\ttraining's auc: 0.96987\tvalid_1's auc: 0.721332\n",
      "[470]\ttraining's auc: 0.971092\tvalid_1's auc: 0.7213\n",
      "[480]\ttraining's auc: 0.972662\tvalid_1's auc: 0.721254\n",
      "[490]\ttraining's auc: 0.974038\tvalid_1's auc: 0.721306\n",
      "Early stopping, best iteration is:\n",
      "[446]\ttraining's auc: 0.968003\tvalid_1's auc: 0.721789\n"
     ]
    }
   ],
   "source": [
    "model_lgb = lgbm.train(\n",
    "    params=params,\n",
    "    train_set=dtrain,\n",
    "    num_boost_round=600,\n",
    "    valid_sets=[dtrain, dvalid],\n",
    "    categorical_feature=\"auto\",\n",
    "    early_stopping_rounds=50,\n",
    "    verbose_eval=10\n",
    ")"
   ]
  },
  {
   "cell_type": "code",
   "execution_count": 18,
   "metadata": {},
   "outputs": [
    {
     "name": "stdout",
     "output_type": "stream",
     "text": [
      "Train-score: 0.968, Valid-score: 0.722, Test-score: 0.73)\n"
     ]
    }
   ],
   "source": [
    "train_score = roc_auc_score(y_train, model_lgb.predict(x_train))\n",
    "valid_score = roc_auc_score(y_valid, model_lgb.predict(x_valid))\n",
    "test_score = roc_auc_score(y_test, model_lgb.predict(x_test))\n",
    "\n",
    "print(f\"Train-score: {round(train_score, 3)}, Valid-score: {round(valid_score, 3)}, Test-score: {round(test_score, 3)})\")\n",
    "\n",
    "# Train-score: 0.968, Valid-score: 0.722, Test-score: 0.73)"
   ]
  },
  {
   "cell_type": "code",
   "execution_count": null,
   "metadata": {},
   "outputs": [],
   "source": []
  },
  {
   "cell_type": "code",
   "execution_count": null,
   "metadata": {},
   "outputs": [],
   "source": [
    "x_pred_train_cat = model_catb.predict(x_test, prediction_type =  \"Probability\")[:,1]\n",
    "x_pred_train_xgb = model_xgb.predict(xgb.DMatrix(data=x_test))\n",
    "x_pred_train_lgb = model_lgb.predict(x_test)"
   ]
  },
  {
   "cell_type": "code",
   "execution_count": null,
   "metadata": {},
   "outputs": [],
   "source": []
  },
  {
   "cell_type": "code",
   "execution_count": null,
   "metadata": {},
   "outputs": [],
   "source": []
  }
 ],
 "metadata": {
  "kernelspec": {
   "display_name": "Python 3",
   "language": "python",
   "name": "python3"
  },
  "language_info": {
   "codemirror_mode": {
    "name": "ipython",
    "version": 3
   },
   "file_extension": ".py",
   "mimetype": "text/x-python",
   "name": "python",
   "nbconvert_exporter": "python",
   "pygments_lexer": "ipython3",
   "version": "3.8.5"
  }
 },
 "nbformat": 4,
 "nbformat_minor": 4
}
